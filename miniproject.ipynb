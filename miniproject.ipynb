{
  "nbformat": 4,
  "nbformat_minor": 0,
  "metadata": {
    "colab": {
      "provenance": []
    },
    "kernelspec": {
      "name": "python3",
      "display_name": "Python 3"
    },
    "language_info": {
      "name": "python"
    },
    "gpuClass": "standard"
  },
  "cells": [
    {
      "cell_type": "code",
      "source": [
        "# Check PyTorch version installed on this system\n",
        "!python -c \"import torch; print(torch.__version__)\""
      ],
      "metadata": {
        "colab": {
          "base_uri": "https://localhost:8080/"
        },
        "id": "S0XCY9fOxs66",
        "outputId": "8110425a-9d47-4c05-f5b7-de37bda67ab7"
      },
      "execution_count": null,
      "outputs": [
        {
          "output_type": "stream",
          "name": "stdout",
          "text": [
            "1.13.0+cu116\n"
          ]
        }
      ]
    },
    {
      "cell_type": "code",
      "source": [
        "%%capture\n",
        "# Download the corresponding PyTorch Geometric module\n",
        "\"\"\"\n",
        "Assign to TORCH with what you get from the cell above. E.g., export TORCH=1.12.1+cu113\n",
        "\"\"\"\n",
        "%env TORCH=1.13.0+cu116\n",
        "!pip install \"scipy>=1.8\" # for adjacency matrices\n",
        "!pip install torch-scatter -f https://data.pyg.org/whl/torch-${TORCH}.html\n",
        "!pip install torch-sparse -f https://data.pyg.org/whl/torch-${TORCH}.html\n",
        "!pip install torch-geometric"
      ],
      "metadata": {
        "id": "HMr4wnliwpwM"
      },
      "execution_count": null,
      "outputs": []
    },
    {
      "cell_type": "code",
      "execution_count": null,
      "metadata": {
        "id": "arBGs6MWlRbw",
        "colab": {
          "base_uri": "https://localhost:8080/"
        },
        "outputId": "2072b7e7-1ebe-4497-a269-e011b25ec785"
      },
      "outputs": [
        {
          "output_type": "execute_result",
          "data": {
            "text/plain": [
              "device(type='cpu')"
            ]
          },
          "metadata": {},
          "execution_count": 3
        }
      ],
      "source": [
        "import random\n",
        "import numpy as np\n",
        "import torch\n",
        "import torch.nn as nn\n",
        "from torch_geometric.utils import from_networkx, to_dense_adj\n",
        "from torch_geometric.nn.models import GAT, GraphSAGE, GCN\n",
        "from torch_geometric.data import Batch\n",
        "import networkx as nx\n",
        "import matplotlib.pyplot as plt\n",
        "\n",
        "device = torch.device('cuda' if torch.cuda.is_available() else 'cpu')\n",
        "device"
      ]
    },
    {
      "cell_type": "code",
      "source": [
        "def new_graph(n,m):\n",
        "    #generate a graph of n nodes with each new node having m edges\n",
        "    g = nx.barabasi_albert_graph(n, m)\n",
        "    avg_degree = 2 * m/n * (n-m) # Number of edges is (n-m)m\n",
        "    return g, avg_degree\n",
        "\n",
        "example, deg = new_graph(10,3)\n",
        "nx.draw(example)\n",
        "plt.show()\n",
        "print(f\"Average degree of nodes in the graph above: {deg}\")"
      ],
      "metadata": {
        "id": "XnaGaEixpxWq",
        "colab": {
          "base_uri": "https://localhost:8080/",
          "height": 336
        },
        "outputId": "faf81abe-bb88-4e90-fd2c-9785353275d5"
      },
      "execution_count": null,
      "outputs": [
        {
          "output_type": "display_data",
          "data": {
            "text/plain": [
              "<Figure size 432x288 with 1 Axes>"
            ],
            "image/png": "[encoded data removed]"
          },
          "metadata": {}
        },
        {
          "output_type": "stream",
          "name": "stdout",
          "text": [
            "Average degree of nodes in the graph above: 1.8\n"
          ]
        }
      ]
    },
    {
      "cell_type": "code",
      "source": [
        "################################\n",
        "# Global experiment parameters #\n",
        "################################\n",
        "\n",
        "N = 50\n",
        "TEST_PROPORTION = 0.25\n",
        "NUM_LAYERS = 2\n",
        "INITIAL_EMBED_SIZE = 1\n",
        "EPOCHS = 512\n",
        "HIDDEN_EMBED_SIZE = 10\n",
        "AVG_SIZE = 3"
      ],
      "metadata": {
        "id": "ZrZVPFDz87Rd"
      },
      "execution_count": null,
      "outputs": []
    },
    {
      "cell_type": "markdown",
      "source": [
        "Datasets are graphs generated via preferential attachment with an initial graph of a single triangle. The average degree of a node in such a graph is $\\tilde{d}=\\frac{2m}{n}(n-m)$, where $n$ is the total number of node in the graph, $m$ is the number of edges added to each new node, and the initial graph is a star graph of $m+1$ nodes."
      ],
      "metadata": {
        "id": "31xdDHfgpjI2"
      }
    },
    {
      "cell_type": "markdown",
      "source": [
        "Edges (including negative sampling) from the graph are randomly split into those used for training and those for testing. A new graph is made using just the training edges."
      ],
      "metadata": {
        "id": "yh6nSpS41pVc"
      }
    },
    {
      "cell_type": "code",
      "source": [
        "def train_test_split(graph : nx.classes.graph.Graph, test_proportion : float) -> tuple: # wow look at that type hinting\n",
        "    #First up, positive sampling for testing\n",
        "    positive_edges = list(graph.edges)\n",
        "    random.shuffle(positive_edges)\n",
        "\n",
        "    split_point = int(len(positive_edges)*test_proportion)\n",
        "    test_pos_edges = positive_edges[:split_point]\n",
        "    train_pos_edges = positive_edges[split_point:]\n",
        "    \n",
        "    #Now negative sampling\n",
        "    #We'll need to actually generate the negative edges for this\n",
        "    negative_edges = [(j,i) for i in range(len(graph)) for j in range(i) if (j,i) not in positive_edges]\n",
        "\n",
        "    split_point = int(len(negative_edges)*test_proportion)\n",
        "    test_neg_edges = negative_edges[:split_point]\n",
        "    train_neg_edges = negative_edges[split_point:]\n",
        "\n",
        "    return train_pos_edges, train_neg_edges, test_pos_edges, test_neg_edges\n",
        "\n",
        "def model_loss(adj_matrix_pred : torch.Tensor, pos_edges, neg_edges) -> torch.Tensor:\n",
        "    pos_loss = 0\n",
        "    for u,v in pos_edges:\n",
        "        val = adj_matrix_pred[u][v]\n",
        "        pos_loss -= torch.log(val + 1e-5)\n",
        "        val = adj_matrix_pred[v][u]\n",
        "        pos_loss -= torch.log(val + 1e-5)\n",
        "    pos_loss/= len(pos_edges)\n",
        "\n",
        "    neg_loss = 0\n",
        "    for u,v in neg_edges:\n",
        "        val = adj_matrix_pred[u][v]\n",
        "        neg_loss -= torch.log(1-val + 1e-5)\n",
        "        val = adj_matrix_pred[v][u]\n",
        "        neg_loss -= torch.log(1-val + 1e-5)\n",
        "    neg_loss /= len(neg_edges)\n",
        "\n",
        "    return pos_loss + 2*neg_loss # Extra weighting performed well in validation runs with GCN\n",
        "\n",
        "def model_accuracy(adj_matrix_pred : torch.Tensor, pos_edges, neg_edges) -> float:\n",
        "    pos_score = 0\n",
        "    for u,v in pos_edges:\n",
        "        val = adj_matrix_pred[u][v]\n",
        "        pos_score += (val >= 0.5)\n",
        "\n",
        "    pos_score = float(pos_score) / len(pos_edges)\n",
        "\n",
        "    neg_score = 0\n",
        "    for u,v in neg_edges:\n",
        "        val = adj_matrix_pred[u][v]\n",
        "        neg_score += (val < 0.5)\n",
        "    \n",
        "    neg_score = float(neg_score) / len(neg_edges)\n",
        "\n",
        "    return (pos_score + neg_score) / 2\n",
        "\n",
        "def make_train_graph(graph : nx.classes.graph.Graph, edges):\n",
        "    train_graph = nx.Graph()\n",
        "    train_graph.add_nodes_from(graph)\n",
        "    train_graph.add_edges_from(edges)\n",
        "    torch_train = from_networkx(train_graph)\n",
        "    torch_train.x = torch.ones((len(graph), INITIAL_EMBED_SIZE))\n",
        "    return torch_train"
      ],
      "metadata": {
        "id": "9ZS6cunqzVNU"
      },
      "execution_count": null,
      "outputs": []
    },
    {
      "cell_type": "code",
      "source": [
        "class LinkPredictor(nn.Module):\n",
        "    def __init__(self, model, in_size, hidden_size, layers, **kwargs) -> None:\n",
        "        super().__init__()\n",
        "        self.gnn = model(in_size, hidden_size, layers, **kwargs)\n",
        "        self.pred_weights = nn.Parameter(torch.eye(hidden_size, requires_grad=True))\n",
        "        self.non_linear = nn.Sigmoid()\n",
        "    \n",
        "    def forward(self, graph):\n",
        "        x = self.gnn(graph.x, graph.edge_index)\n",
        "        raw_preds = x @ self.pred_weights @ x.transpose(0,1) # Attempts to predict adjacency matrix\n",
        "        return self.non_linear(raw_preds)\n"
      ],
      "metadata": {
        "id": "-TA0vRW7F1f1"
      },
      "execution_count": null,
      "outputs": []
    },
    {
      "cell_type": "code",
      "source": [
        "def train(model : LinkPredictor, graph, pos_edges, neg_edges):\n",
        "    optimiser = torch.optim.Adam(model.parameters(), lr=1e-3)\n",
        "    for epoch in range(EPOCHS):\n",
        "        optimiser.zero_grad()\n",
        "        pred = model(graph)\n",
        "        loss = model_loss(pred, pos_edges, neg_edges)\n",
        "        loss.backward()\n",
        "        optimiser.step()\n"
      ],
      "metadata": {
        "id": "sn1rGwrSSK_E"
      },
      "execution_count": null,
      "outputs": []
    },
    {
      "cell_type": "code",
      "source": [
        "def make_4_and_train(graph : nx.Graph):\n",
        "    # Given a graph, train 4 models on it and get their accuracies\n",
        "    torch.cuda.empty_cache()\n",
        "    # Make the graph\n",
        "    train_pos_edges, train_neg_edges, test_pos_edges, test_neg_edges = train_test_split(graph, TEST_PROPORTION)\n",
        "    train_graph = make_train_graph(graph, train_pos_edges).to(device)\n",
        "    # Make the models\n",
        "    models = [LinkPredictor(GCN, INITIAL_EMBED_SIZE, HIDDEN_EMBED_SIZE, NUM_LAYERS).to(device),\n",
        "              LinkPredictor(GraphSAGE, INITIAL_EMBED_SIZE, HIDDEN_EMBED_SIZE, NUM_LAYERS).to(device),\n",
        "              LinkPredictor(GAT, INITIAL_EMBED_SIZE, HIDDEN_EMBED_SIZE, NUM_LAYERS).to(device),\n",
        "              LinkPredictor(GAT, INITIAL_EMBED_SIZE, HIDDEN_EMBED_SIZE, NUM_LAYERS, v2=True).to(device)]\n",
        "    #Train and test\n",
        "    accuracies = []\n",
        "    for model in models:\n",
        "        train(model, train_graph, train_pos_edges, train_neg_edges)\n",
        "        pred = model(train_graph)\n",
        "        accuracies.append(model_accuracy(pred, test_pos_edges, test_neg_edges))\n",
        "\n",
        "    return np.array(accuracies)\n"
      ],
      "metadata": {
        "id": "notiLFcMeBwb"
      },
      "execution_count": null,
      "outputs": []
    },
    {
      "cell_type": "code",
      "source": [
        "def average_accuracies(n,m):\n",
        "    # Make a number of graphs with parameters n,m and average the accuracies\n",
        "    accuracies = np.zeros(4)\n",
        "    for i in range(AVG_SIZE):\n",
        "        graph, degree = new_graph(n,m)\n",
        "        accs = make_4_and_train(graph)\n",
        "        #print(accs)\n",
        "        accuracies += accs\n",
        "    \n",
        "    accuracies /= AVG_SIZE\n",
        "    return accuracies, degree\n",
        "\n",
        "#average_accuracies(10, 1)"
      ],
      "metadata": {
        "id": "ffEb6yd4xm3_"
      },
      "execution_count": null,
      "outputs": []
    },
    {
      "cell_type": "code",
      "source": [
        "def batch_accuracies(n,m):\n",
        "    # Make AVG_SIZE batches and train 4 models on them\n",
        "    torch.cuda.empty_cache()\n",
        "\n",
        "    # Negative edges are a bit trickier now, as we only want negative edges within a sub-graph of the batch and not ones that cross over\n",
        "    # So we'll find our edges outside of the batch graph, then adjust them to have the right indices in the adjacency matrix\n",
        "    batch_list = []\n",
        "    train_pos_edges = []\n",
        "    train_neg_edges = []\n",
        "    test_pos_edges = []\n",
        "    test_neg_edges = []\n",
        "    for i in range(AVG_SIZE):\n",
        "        graph, degree = new_graph(n,m)\n",
        "        #print(nx.adjacency_matrix(graph).todense())\n",
        "\n",
        "        train_pos, train_neg, test_pos, test_neg = train_test_split(graph, TEST_PROPORTION)\n",
        "\n",
        "        #make the training graph\n",
        "        train_graph = make_train_graph(graph, train_pos)\n",
        "        batch_list.append(train_graph)\n",
        "\n",
        "        #Update edges for correct indices\n",
        "        for raw_list, edge_list in zip([train_pos, train_neg, test_pos, test_neg],\n",
        "                                       [train_pos_edges, train_neg_edges, test_pos_edges, test_neg_edges]):\n",
        "            # Increase every index by i*n\n",
        "            for u,v in raw_list:\n",
        "                edge_list.append( (u+i*n, v+i*n) )\n",
        "    \n",
        "    batch = Batch.from_data_list(batch_list).to(device)\n",
        "\n",
        "    #We have our batch, edges and all\n",
        "    #Now make four and train\n",
        "    models = [LinkPredictor(GCN, INITIAL_EMBED_SIZE, HIDDEN_EMBED_SIZE, NUM_LAYERS).to(device),\n",
        "              LinkPredictor(GraphSAGE, INITIAL_EMBED_SIZE, HIDDEN_EMBED_SIZE, NUM_LAYERS).to(device),\n",
        "              LinkPredictor(GAT, INITIAL_EMBED_SIZE, HIDDEN_EMBED_SIZE, NUM_LAYERS).to(device),\n",
        "              LinkPredictor(GAT, INITIAL_EMBED_SIZE, HIDDEN_EMBED_SIZE, NUM_LAYERS, v2=True).to(device)]\n",
        "    accuracies = []\n",
        "    for model in models:\n",
        "        train(model, batch, train_pos_edges, train_neg_edges)\n",
        "        pred = model(batch)\n",
        "        accuracies.append(model_accuracy(pred, test_pos_edges, test_neg_edges))\n",
        "\n",
        "    return np.array(accuracies)\n",
        "\n",
        "#batch_accuracies(10, 3)"
      ],
      "metadata": {
        "id": "P8I4XYQYrmnn"
      },
      "execution_count": null,
      "outputs": []
    },
    {
      "cell_type": "code",
      "source": [
        "degrees = []\n",
        "accuracies = []\n",
        "for M in range(1, N//2, N//20):\n",
        "\n",
        "    accs = batch_accuracies(N,M)\n",
        "    print(accs)\n",
        "    accuracies.append(accs)\n",
        "    degrees.append(2 * M/N * (N-M))"
      ],
      "metadata": {
        "id": "DdZuQTXqznKK"
      },
      "execution_count": null,
      "outputs": []
    },
    {
      "cell_type": "code",
      "source": [
        "accuracies"
      ],
      "metadata": {
        "id": "bB_J4P0zH2yF",
        "colab": {
          "base_uri": "https://localhost:8080/"
        },
        "outputId": "d208ab87-2386-40fc-c83c-4e8b640ef773"
      },
      "execution_count": null,
      "outputs": [
        {
          "output_type": "execute_result",
          "data": {
            "text/plain": [
              "array([[0.5       , 0.28089569, 0.5       , 0.5       ],\n",
              "       [0.5       , 0.5       , 0.5       , 0.5       ],\n",
              "       [0.4625    , 0.5       , 0.5       , 0.5       ],\n",
              "       [0.5       , 0.5       , 0.5       , 0.5       ],\n",
              "       [0.44348503, 0.5       , 0.5       , 0.5       ],\n",
              "       [0.5       , 0.51626513, 0.5       , 0.5       ],\n",
              "       [0.5       , 0.5       , 0.5       , 0.5       ],\n",
              "       [0.58138132, 0.5       , 0.5       , 0.5       ],\n",
              "       [0.59290017, 0.5       , 0.5       , 0.5       ],\n",
              "       [0.56768494, 0.5       , 0.5       , 0.5       ],\n",
              "       [0.495671  , 0.5       , 0.5       , 0.5       ],\n",
              "       [0.5       , 0.5       , 0.5       , 0.5       ]])"
            ]
          },
          "metadata": {},
          "execution_count": 13
        }
      ]
    },
    {
      "cell_type": "code",
      "source": [
        "plt.scatter(degrees, accuracies[:,0], label=\"GCN\")\n",
        "plt.scatter(degrees, accuracies[:,1], label=\"GraphSAGE\", marker=\"^\")\n",
        "plt.scatter(degrees, accuracies[:,2], label=\"GAT\", marker=\"+\")\n",
        "plt.scatter(degrees, accuracies[:,3], label=\"GATv2\", marker=\"x\")\n",
        "plt.legend(loc='lower center')\n",
        "plt.show()"
      ],
      "metadata": {
        "colab": {
          "base_uri": "https://localhost:8080/",
          "height": 265
        },
        "id": "1XF7RKdX2paQ",
        "outputId": "bb9a57fb-fb34-4831-9ac6-68dda7136788"
      },
      "execution_count": null,
      "outputs": [
        {
          "output_type": "display_data",
          "data": {
            "text/plain": [
              "<Figure size 432x288 with 1 Axes>"
            ],
            "image/png": "[encoded data removed]"
          },
          "metadata": {
            "needs_background": "light"
          }
        }
      ]
    },
    {
      "cell_type": "code",
      "source": [
        "gcnaccs = []\n",
        "gatv2accs = []\n",
        "for i in range(25):\n",
        "    graph, degree = new_graph(50, 22)\n",
        "    train_pos_edges, train_neg_edges, test_pos_edges, test_neg_edges = train_test_split(graph, TEST_PROPORTION)\n",
        "    train_graph = make_train_graph(graph, train_pos_edges).to(device)\n",
        "    \n",
        "    # Make the models\n",
        "    gcn = LinkPredictor(GCN, INITIAL_EMBED_SIZE, HIDDEN_EMBED_SIZE, NUM_LAYERS).to(device)\n",
        "    gatv2 = LinkPredictor(GAT, INITIAL_EMBED_SIZE, HIDDEN_EMBED_SIZE, NUM_LAYERS, v2=True).to(device)\n",
        "    \n",
        "    #Train and test\n",
        "    train(gcn, train_graph, train_pos_edges, train_neg_edges)\n",
        "    pred = gcn(train_graph)\n",
        "    gcnaccs.append(model_accuracy(pred, test_pos_edges, test_neg_edges))\n",
        "\n",
        "    train(gatv2, train_graph, train_pos_edges, train_neg_edges)\n",
        "    pred = gatv2(train_graph)\n",
        "    gatv2accs.append(model_accuracy(pred, test_pos_edges, test_neg_edges))\n"
      ],
      "metadata": {
        "id": "yyKnme-u3s0G"
      },
      "execution_count": null,
      "outputs": []
    },
    {
      "cell_type": "code",
      "source": [
        "plt.boxplot([gcnaccs,gatv2accs], labels=[\"GCN\", \"GATv2\"])\n",
        "plt.show()"
      ],
      "metadata": {
        "colab": {
          "base_uri": "https://localhost:8080/",
          "height": 337
        },
        "id": "RBTvtoUuHLM6",
        "outputId": "008a0bb0-86eb-4949-9aa7-1dd3dd8cc4cd"
      },
      "execution_count": null,
      "outputs": [
        {
          "output_type": "stream",
          "name": "stderr",
          "text": [
            "/usr/local/lib/python3.8/dist-packages/matplotlib/cbook/__init__.py:1376: VisibleDeprecationWarning: Creating an ndarray from ragged nested sequences (which is a list-or-tuple of lists-or-tuples-or ndarrays with different lengths or shapes) is deprecated. If you meant to do this, you must specify 'dtype=object' when creating the ndarray.\n",
            "  X = np.atleast_1d(X.T if isinstance(X, np.ndarray) else np.asarray(X))\n",
            "WARNING:matplotlib.legend:No handles with labels found to put in legend.\n"
          ]
        },
        {
          "output_type": "display_data",
          "data": {
            "text/plain": [
              "<Figure size 432x288 with 1 Axes>"
            ],
            "image/png": "[encoded data removed]"
          },
          "metadata": {
            "needs_background": "light"
          }
        }
      ]
    }
  ]
}